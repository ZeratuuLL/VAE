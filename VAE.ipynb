{
 "cells": [
  {
   "cell_type": "code",
   "execution_count": 1,
   "metadata": {},
   "outputs": [],
   "source": [
    "import torch\n",
    "import torch.nn as nn\n",
    "import torch.utils.data\n",
    "from torch import nn, optim, distributions\n",
    "from torch.nn import functional as F\n",
    "from torchvision import datasets, transforms\n",
    "from torchvision.utils import save_image\n",
    "import matplotlib.pyplot as plt\n",
    "from torch.utils.data import Dataset, TensorDataset, DataLoader\n",
    "%matplotlib inline\n",
    "\n",
    "from collections import deque\n",
    "import numpy as np\n",
    "from scipy.stats import mode"
   ]
  },
  {
   "cell_type": "code",
   "execution_count": 2,
   "metadata": {},
   "outputs": [],
   "source": [
    "device = torch.device(\"cuda:0\" if torch.cuda.is_available() else \"cpu\")\n",
    "\n",
    "MNIST_train = torch.utils.data.DataLoader(\n",
    "    datasets.MNIST('../data', train=True, download=True,\n",
    "                   transform=transforms.ToTensor()),\n",
    "                   batch_size=128, shuffle=True)\n",
    "\n",
    "MNIST_test = torch.utils.data.DataLoader(\n",
    "    datasets.MNIST('../data', train=False, download=True,\n",
    "                   transform=transforms.ToTensor()),\n",
    "                   batch_size=128, shuffle=True)"
   ]
  },
  {
   "cell_type": "code",
   "execution_count": 3,
   "metadata": {},
   "outputs": [],
   "source": [
    "def plot_image(tensor, label=None):\n",
    "    '''Takes a [n, n] tensor, transform it to numpy and plot gray scale'''\n",
    "    tensor = tensor.cpu().numpy()\n",
    "    plt.imshow(tensor, cmap='gray', vmin=0, vmax=1)\n",
    "    if label is not None:\n",
    "        print('The correct label is {}'.format(label))"
   ]
  },
  {
   "cell_type": "markdown",
   "metadata": {},
   "source": [
    "# Success Unit\n",
    "\n",
    "The following block works well for MNIST. It use binary cross entropy loss. It also records the loss that is used in the following unit, which is $\\log p_\\theta(x|z)$ if $x=sigmoid(y)$ with $y\\sim\\mathcal{N}(\\mu_\\theta(z),\\sigma_\\theta(z))$."
   ]
  },
  {
   "cell_type": "code",
   "execution_count": 4,
   "metadata": {},
   "outputs": [],
   "source": [
    "class encoder(nn.Module):\n",
    "    '''this encoder is the recognition model'''\n",
    "    def __init__(self, input_dim, code_dim, hidden=None):\n",
    "        super(encoder, self).__init__()\n",
    "        if hidden is None:\n",
    "            hidden = [256, 256]\n",
    "        \n",
    "        #For new mean\n",
    "        self.fc1_1 = nn.Linear(input_dim, hidden[0])\n",
    "        self.fc1_2 = nn.Linear(hidden[0], hidden[1])\n",
    "        self.fc1_3 = nn.Linear(hidden[1], code_dim)\n",
    "        \n",
    "        #For new std\n",
    "        self.fc2_1 = nn.Linear(input_dim, hidden[0])\n",
    "        self.fc2_2 = nn.Linear(hidden[0], hidden[1])\n",
    "        self.fc2_3 = nn.Linear(hidden[1], code_dim)\n",
    "    \n",
    "    def forward(self, x):\n",
    "        '''\n",
    "        input x is an observation\n",
    "        returns mu and std such that p(z|x)~N(mu(x), std(x)). z is the hidden state\n",
    "        '''\n",
    "        \n",
    "        mu = F.relu(self.fc1_1(x))\n",
    "        mu = F.relu(self.fc1_2(mu))\n",
    "        mu = self.fc1_3(mu)\n",
    "        \n",
    "        log_std = F.relu(self.fc2_1(x))\n",
    "        log_std = F.relu(self.fc2_2(log_std))\n",
    "        log_std = self.fc2_3(log_std)\n",
    "        return mu, log_std\n",
    "    \n",
    "class decoder(nn.Module):\n",
    "    \n",
    "    def __init__(self, output_dim, code_dim, hidden=None):\n",
    "        super(decoder, self).__init__()\n",
    "        if hidden is None:\n",
    "            hidden = [256, 256]\n",
    "        \n",
    "        #for mean\n",
    "        self.fc1_1 = nn.Linear(code_dim, hidden[0])\n",
    "        self.fc1_2 = nn.Linear(hidden[0], hidden[1])\n",
    "        self.fc1_3 = nn.Linear(hidden[1], output_dim)\n",
    "        \n",
    "        #for std\n",
    "        self.fc2_1 = nn.Linear(code_dim, hidden[0])\n",
    "        self.fc2_2 = nn.Linear(hidden[0], hidden[1])\n",
    "        self.fc2_3 = nn.Linear(hidden[1], output_dim)\n",
    "    \n",
    "    def forward(self, z):\n",
    "        '''\n",
    "        input z is a hidden state\n",
    "        outputs mu and std\n",
    "        q(x|z)~sigmoid(N(mu(z), std(z))) because we need 0<=x<=1\n",
    "        '''\n",
    "        mu = F.relu(self.fc1_1(z))\n",
    "        mu = F.relu(self.fc1_2(mu))\n",
    "        mu = self.fc1_3(mu)\n",
    "        \n",
    "        log_std = F.relu(self.fc2_1(z))\n",
    "        log_std = F.relu(self.fc2_2(log_std))\n",
    "        log_std = self.fc2_3(log_std)\n",
    "        \n",
    "        return mu, log_std\n",
    "    \n",
    "class VAE1(nn.Module):\n",
    "    \n",
    "    def __init__(self, input_dim, code_dim, learning_rate):\n",
    "        super(VAE1, self).__init__()\n",
    "        self.encoder = encoder(input_dim, code_dim).to(device)\n",
    "        self.decoder = decoder(input_dim, code_dim).to(device)\n",
    "        self.encoder_optimizer = optim.Adam(self.encoder.parameters(), lr=learning_rate)\n",
    "        self.decoder_optimizer = optim.Adam(self.decoder.parameters(), lr=learning_rate)\n",
    "        \n",
    "    def forward(self, x, noise=False):\n",
    "        mu_z, log_std_z = self.encoder(x)\n",
    "        std_z = log_std_z.exp()\n",
    "        if noise:\n",
    "            z = distributions.Normal(mu_z, std_z).rsample()\n",
    "        else:\n",
    "            z = mu_z\n",
    "        mu_x, log_std_x = self.decoder(z)\n",
    "        std_x = log_std_x.exp()\n",
    "        if noise:\n",
    "            x = F.sigmoid(distributions.Normal(mu_x, std_x).rsample())\n",
    "        else:\n",
    "            x = F.sigmoid(mu_x)\n",
    "        return mu_z, log_std_z, mu_x, log_std_x, z, x\n",
    "    \n",
    "    def train(self, num_epoch, trainloader):\n",
    "        '''This function trains the VAE. Inputs are number of training epochs and the training loader'''\n",
    "        all_loss_log = []\n",
    "        loss_log = deque(maxlen = 50)\n",
    "        for i in range(1, num_epoch+1):\n",
    "            another_loss_log = deque(maxlen=50)\n",
    "            for j, (images, _) in enumerate(trainloader):\n",
    "                images = images.view(images.size(0), -1)\n",
    "                mu_z, log_std_z, mu_x, log_std_x, z, x = self.forward(images, noise=True)\n",
    "                #We will maximize the loss in paper, so we use the negative things here\n",
    "                KLD = -0.5*torch.sum(1 + 2*log_std_z - mu_z.pow(2) - (2*log_std_z).exp())\n",
    "                recon_loss = F.binary_cross_entropy(x, images, size_average=False)\n",
    "                Loss = KLD + recon_loss\n",
    "                self.encoder_optimizer.zero_grad()\n",
    "                self.decoder_optimizer.zero_grad()\n",
    "                Loss.backward()\n",
    "                self.encoder_optimizer.step()\n",
    "                self.decoder_optimizer.step()\n",
    "                loss_log.append(Loss.detach().cpu().numpy())\n",
    "                all_loss_log.append(loss_log[-1])\n",
    "                print('\\rEpisode {} batch group {}. Current average loss : {:.4f}'.format(i, j+1, np.mean(loss_log)/128), end='')\n",
    "                if (j+1) % 100 == 0:\n",
    "                    print('')\n",
    "            print('')\n",
    "        return all_loss_log"
   ]
  },
  {
   "cell_type": "code",
   "execution_count": 5,
   "metadata": {},
   "outputs": [
    {
     "name": "stdout",
     "output_type": "stream",
     "text": [
      "Episode 1 batch group 100. Current average loss : 206.8342\n",
      "Episode 1 batch group 200. Current average loss : 195.5303\n",
      "Episode 1 batch group 300. Current average loss : 185.2719\n",
      "Episode 1 batch group 400. Current average loss : 176.8340\n",
      "Episode 1 batch group 469. Current average loss : 168.2712\n",
      "Episode 2 batch group 100. Current average loss : 156.7263\n",
      "Episode 2 batch group 200. Current average loss : 151.1019\n",
      "Episode 2 batch group 300. Current average loss : 146.1395\n",
      "Episode 2 batch group 400. Current average loss : 141.6671\n",
      "Episode 2 batch group 469. Current average loss : 138.1352\n",
      "Episode 3 batch group 100. Current average loss : 135.0700\n",
      "Episode 3 batch group 200. Current average loss : 133.1129\n",
      "Episode 3 batch group 300. Current average loss : 129.8708\n",
      "Episode 3 batch group 400. Current average loss : 127.6247\n",
      "Episode 3 batch group 469. Current average loss : 125.0645\n",
      "Episode 4 batch group 100. Current average loss : 124.2102\n",
      "Episode 4 batch group 200. Current average loss : 122.6800\n",
      "Episode 4 batch group 300. Current average loss : 121.9622\n",
      "Episode 4 batch group 400. Current average loss : 121.1182\n",
      "Episode 4 batch group 469. Current average loss : 118.9896\n",
      "Episode 5 batch group 100. Current average loss : 119.7470\n",
      "Episode 5 batch group 200. Current average loss : 118.0941\n",
      "Episode 5 batch group 300. Current average loss : 117.8290\n",
      "Episode 5 batch group 400. Current average loss : 117.6524\n",
      "Episode 5 batch group 469. Current average loss : 115.9536\n",
      "Episode 6 batch group 100. Current average loss : 116.2331\n",
      "Episode 6 batch group 200. Current average loss : 116.0139\n",
      "Episode 6 batch group 300. Current average loss : 113.9386\n",
      "Episode 6 batch group 400. Current average loss : 113.9896\n",
      "Episode 6 batch group 469. Current average loss : 114.2086\n",
      "Episode 7 batch group 100. Current average loss : 113.6303\n",
      "Episode 7 batch group 200. Current average loss : 113.0097\n",
      "Episode 7 batch group 300. Current average loss : 112.9860\n",
      "Episode 7 batch group 400. Current average loss : 111.9284\n",
      "Episode 7 batch group 469. Current average loss : 111.6505\n",
      "Episode 8 batch group 100. Current average loss : 111.5587\n",
      "Episode 8 batch group 200. Current average loss : 111.3129\n",
      "Episode 8 batch group 300. Current average loss : 111.0965\n",
      "Episode 8 batch group 400. Current average loss : 110.5960\n",
      "Episode 8 batch group 469. Current average loss : 109.6024\n",
      "Episode 9 batch group 100. Current average loss : 110.3734\n",
      "Episode 9 batch group 200. Current average loss : 110.3057\n",
      "Episode 9 batch group 300. Current average loss : 109.5564\n",
      "Episode 9 batch group 400. Current average loss : 109.7584\n",
      "Episode 9 batch group 469. Current average loss : 107.9646\n",
      "Episode 10 batch group 100. Current average loss : 108.7177\n",
      "Episode 10 batch group 200. Current average loss : 107.7477\n",
      "Episode 10 batch group 300. Current average loss : 108.3346\n",
      "Episode 10 batch group 400. Current average loss : 108.1180\n",
      "Episode 10 batch group 469. Current average loss : 108.0164\n"
     ]
    }
   ],
   "source": [
    "MNIST_VAE1 = VAE1(input_dim=28*28, code_dim=20, learning_rate=5e-4)\n",
    "MNIST_losses = MNIST_VAE1.train(num_epoch = 10, trainloader=MNIST_train)"
   ]
  },
  {
   "cell_type": "code",
   "execution_count": 6,
   "metadata": {},
   "outputs": [
    {
     "name": "stdout",
     "output_type": "stream",
     "text": [
      "The correct label is 1\n"
     ]
    },
    {
     "data": {
      "image/png": "[encoded data removed]",
      "text/plain": [
       "<Figure size 1080x540 with 3 Axes>"
      ]
     },
     "metadata": {},
     "output_type": "display_data"
    }
   ],
   "source": [
    "image, label = iter(MNIST_train).next()\n",
    "with torch.no_grad():\n",
    "    mu_z1, log_std_z1, mu_x1, log_std_x1, z1, x1 = MNIST_VAE1(image[0,:,:,:].view(-1), noise=False)\n",
    "    mu_z2, log_std_z2, mu_x2, log_std_x2, z2, x2 = MNIST_VAE1(image[0,:,:,:].view(-1), noise=True)\n",
    "x1 = x1.view(28,28)\n",
    "x2 = x2.view(28,28)\n",
    "plt.figure(figsize=(15,7.5))\n",
    "plt.subplot(1,3,1)\n",
    "plot_image(tensor=image[0,0,:,:], label=label[0])\n",
    "plt.subplot(1,3,2)\n",
    "plot_image(x1)\n",
    "plt.subplot(1,3,3)\n",
    "plot_image(x2)\n",
    "plt.show()"
   ]
  },
  {
   "cell_type": "markdown",
   "metadata": {},
   "source": [
    "## Test on gym, pong"
   ]
  },
  {
   "cell_type": "code",
   "execution_count": 7,
   "metadata": {},
   "outputs": [],
   "source": [
    "import gym\n",
    "env = gym.make('PongDeterministic-v4')"
   ]
  },
  {
   "cell_type": "code",
   "execution_count": 8,
   "metadata": {},
   "outputs": [],
   "source": [
    "def process_image(state):\n",
    "    graph = state.copy()\n",
    "    graph = np.mean(graph, axis=2, keepdims=False)\n",
    "    graph = graph[34:194,:]\n",
    "    graph = np.where(graph==mode(graph, axis=None)[0].item(), 0, 1)\n",
    "    return graph"
   ]
  },
  {
   "cell_type": "code",
   "execution_count": 9,
   "metadata": {},
   "outputs": [],
   "source": [
    "n_episode = 30\n",
    "max_t = 1000\n",
    "t_max = 500\n",
    "scores = []\n",
    "recorder = []\n",
    "for i in range(1, n_episode+1):\n",
    "    state = env.reset()\n",
    "    score = 0\n",
    "    for t in range(max_t):\n",
    "        recorder.append(process_image(state))\n",
    "        action = np.random.randint(0,6)\n",
    "        env.render()\n",
    "        next_state, reward, done, _ = env.step(action)\n",
    "        state = next_state\n",
    "        score += reward\n",
    "        if done:\n",
    "            break \n",
    "    scores.append(score)"
   ]
  },
  {
   "cell_type": "code",
   "execution_count": 10,
   "metadata": {},
   "outputs": [
    {
     "data": {
      "text/plain": [
       "26865"
      ]
     },
     "execution_count": 10,
     "metadata": {},
     "output_type": "execute_result"
    }
   ],
   "source": [
    "len(recorder)"
   ]
  },
  {
   "cell_type": "code",
   "execution_count": 11,
   "metadata": {},
   "outputs": [],
   "source": [
    "dataset = torch.stack([torch.tensor(image, dtype=torch.float32) for image in recorder])"
   ]
  },
  {
   "cell_type": "code",
   "execution_count": 12,
   "metadata": {},
   "outputs": [
    {
     "data": {
      "text/plain": [
       "torch.Size([26865, 160, 160])"
      ]
     },
     "execution_count": 12,
     "metadata": {},
     "output_type": "execute_result"
    }
   ],
   "source": [
    "dataset.size()"
   ]
  },
  {
   "cell_type": "code",
   "execution_count": 13,
   "metadata": {},
   "outputs": [],
   "source": [
    "Pong_train = DataLoader(TensorDataset(dataset, torch.zeros((dataset.size(0), 1))), batch_size=128, shuffle=True)"
   ]
  },
  {
   "cell_type": "code",
   "execution_count": 14,
   "metadata": {},
   "outputs": [
    {
     "name": "stdout",
     "output_type": "stream",
     "text": [
      "Episode 1 batch group 100. Current average loss : 421.61145\n",
      "Episode 1 batch group 200. Current average loss : 401.7343\n",
      "Episode 1 batch group 210. Current average loss : 397.3952\n",
      "Episode 2 batch group 100. Current average loss : 370.3159\n",
      "Episode 2 batch group 200. Current average loss : 332.2101\n",
      "Episode 2 batch group 210. Current average loss : 324.0155\n",
      "Episode 3 batch group 100. Current average loss : 230.2783\n",
      "Episode 3 batch group 200. Current average loss : 165.2853\n",
      "Episode 3 batch group 210. Current average loss : 159.7938\n",
      "Episode 4 batch group 100. Current average loss : 125.7207\n",
      "Episode 4 batch group 200. Current average loss : 109.0150\n",
      "Episode 4 batch group 210. Current average loss : 107.0340\n",
      "Episode 5 batch group 100. Current average loss : 96.5336\n",
      "Episode 5 batch group 200. Current average loss : 90.0889\n",
      "Episode 5 batch group 210. Current average loss : 89.0262\n",
      "Episode 6 batch group 100. Current average loss : 83.6437\n",
      "Episode 6 batch group 200. Current average loss : 79.6485\n",
      "Episode 6 batch group 210. Current average loss : 79.3311\n",
      "Episode 7 batch group 100. Current average loss : 75.0403\n",
      "Episode 7 batch group 200. Current average loss : 72.7627\n",
      "Episode 7 batch group 210. Current average loss : 72.2616\n",
      "Episode 8 batch group 100. Current average loss : 69.0097\n",
      "Episode 8 batch group 200. Current average loss : 67.8479\n",
      "Episode 8 batch group 210. Current average loss : 67.1136\n",
      "Episode 9 batch group 100. Current average loss : 65.2223\n",
      "Episode 9 batch group 200. Current average loss : 63.9433\n",
      "Episode 9 batch group 210. Current average loss : 63.7060\n",
      "Episode 10 batch group 100. Current average loss : 60.5650\n",
      "Episode 10 batch group 200. Current average loss : 60.7239\n",
      "Episode 10 batch group 210. Current average loss : 60.1614\n"
     ]
    }
   ],
   "source": [
    "Pong_VAE1 = VAE1(input_dim=160*160, code_dim=20, learning_rate=1e-3)\n",
    "Pong_losses = Pong_VAE1.train(num_epoch = 10, trainloader=Pong_train)"
   ]
  },
  {
   "cell_type": "code",
   "execution_count": 17,
   "metadata": {},
   "outputs": [
    {
     "data": {
      "image/png": "[encoded data removed]",
      "text/plain": [
       "<Figure size 1440x720 with 3 Axes>"
      ]
     },
     "metadata": {},
     "output_type": "display_data"
    }
   ],
   "source": [
    "image, label = iter(Pong_train).next()\n",
    "with torch.no_grad():\n",
    "    mu_z1, log_std_z1, mu_x1, log_std_x1, z1, x1 = Pong_VAE1(image[0,:,:].view(-1), noise=False)\n",
    "    mu_z2, log_std_z2, mu_x2, log_std_x2, z2, x2 = Pong_VAE1(image[0,:,:].view(-1), noise=True)\n",
    "x1 = x1.view(160,160)\n",
    "x2 = x2.view(160,160)\n",
    "plt.figure(figsize=(20,10))\n",
    "plt.subplot(1,3,1)\n",
    "plot_image(tensor=image[0,:,:])\n",
    "plt.subplot(1,3,2)\n",
    "plot_image(x1)\n",
    "plt.subplot(1,3,3)\n",
    "plot_image(x2)\n",
    "plt.show()"
   ]
  },
  {
   "cell_type": "markdown",
   "metadata": {},
   "source": [
    "In the above example we can see that VAE fails to recover the position with a ball: It only have a very dark mark on that position instead of a while point. But in the following example you can see that the ball is recovered."
   ]
  },
  {
   "cell_type": "code",
   "execution_count": 20,
   "metadata": {},
   "outputs": [
    {
     "data": {
      "image/png": "[encoded data removed]",
      "text/plain": [
       "<Figure size 1440x720 with 3 Axes>"
      ]
     },
     "metadata": {},
     "output_type": "display_data"
    }
   ],
   "source": [
    "image, label = iter(Pong_train).next()\n",
    "with torch.no_grad():\n",
    "    mu_z1, log_std_z1, mu_x1, log_std_x1, z1, x1 = Pong_VAE1(image[0,:,:].view(-1), noise=False)\n",
    "    mu_z2, log_std_z2, mu_x2, log_std_x2, z2, x2 = Pong_VAE1(image[0,:,:].view(-1), noise=True)\n",
    "x1 = x1.view(160,160)\n",
    "x2 = x2.view(160,160)\n",
    "plt.figure(figsize=(20,10))\n",
    "plt.subplot(1,3,1)\n",
    "plot_image(tensor=image[0,:,:])\n",
    "plt.subplot(1,3,2)\n",
    "plot_image(x1)\n",
    "plt.subplot(1,3,3)\n",
    "plot_image(x2)\n",
    "plt.show()"
   ]
  },
  {
   "cell_type": "code",
   "execution_count": null,
   "metadata": {},
   "outputs": [],
   "source": [
    "def train(agent, CNN=False, n_episode, max_t):\n",
    "    score_window = deque(maxlen=100)\n",
    "    all_score = []\n",
    "    for i in range(1, n_episode+1):\n",
    "        if CNN:\n",
    "            previous_state = np.zeros(20)\n",
    "        else\n",
    "            previous_state = np.zeros((1, 160, 160))\n",
    "        current_state = process_image(env.reset())\n",
    "        episodic_score = 0\n",
    "        if CNN:\n",
    "            state = np.concatenate(previous_state, current_state)\n",
    "        else:\n",
    "            previous_state = previous_state.reshape(-1)\n",
    "            with torch.no_grad():\n",
    "                current_state, _, _, _, _, _ = Pong_VAE1(torch.tensor(current_state.reshape(1, -1), dtype=torch.float), noise=False)\n",
    "                current_state = current_state.view(-1).numpy()\n",
    "            state = np.concatenate(previous_state, current_state)\n",
    "        for t in range(max_t):\n",
    "            action = agent.act(state)\n",
    "            next_state, reward, done, _ = env.step(action)\n",
    "            next_state = process_image(next_state)\n",
    "            if CNN:\n",
    "                next_state = np.concatenate(current_state, next_state)\n",
    "            else:\n",
    "                with torch.no_grad():\n",
    "                    next_state, _, _, _, _, _ = Pong_VAE1(torch.tensor(next_state.reshape(1, -1), dtype=torch.float), noise=False)\n",
    "                    next_state = next_state.view(-1).numpy()\n",
    "                next_state = np.concatenate(current_state, next_state)\n",
    "            agent.memory.add(state, action, reward, next_state, done)\n",
    "            episodic_score += reward\n",
    "            previous_state = current_state.copy()\n",
    "            current_state = next_state[1].copy()\n",
    "            if t % 4 ==0:\n",
    "                if len(agent.memory)>agent.memory.batch_size:\n",
    "                    experience = agent.memory.sample()\n",
    "                    agent.learn(experience)\n",
    "            if done:\n",
    "                break\n",
    "        score_window.append(episodic_score)\n",
    "        all_score.append(episodic_score)\n",
    "        print('\\rEpisode {}\\tEpisodic Score: {:.2f}\\tAverage Score: {:.2f}'.format(i_episode, episodic_score, np.mean(scores_window),), end=\"\")\n",
    "        if i_episode % 100 == 0:\n",
    "            print('')\n",
    "        means.append(np.mean(scores_window))\n",
    "            "
   ]
  },
  {
   "cell_type": "code",
   "execution_count": null,
   "metadata": {},
   "outputs": [],
   "source": [
    "for i in range(1, n_episode+1):\n",
    "    state = env.reset()\n",
    "    score = 0\n",
    "    for t in range(max_t):\n",
    "        recoder.append(process_image(state))\n",
    "        action = np.random.randint(0,6)\n",
    "        env.render()\n",
    "        next_state, reward, done, _ = env.step(action)\n",
    "        state = next_state\n",
    "        score += reward\n",
    "        if done:\n",
    "            break \n",
    "    scores.append(score)"
   ]
  }
 ],
 "metadata": {
  "kernelspec": {
   "display_name": "Python 3",
   "language": "python",
   "name": "python3"
  },
  "language_info": {
   "codemirror_mode": {
    "name": "ipython",
    "version": 3
   },
   "file_extension": ".py",
   "mimetype": "text/x-python",
   "name": "python",
   "nbconvert_exporter": "python",
   "pygments_lexer": "ipython3",
   "version": "3.6.8"
  }
 },
 "nbformat": 4,
 "nbformat_minor": 2
}
